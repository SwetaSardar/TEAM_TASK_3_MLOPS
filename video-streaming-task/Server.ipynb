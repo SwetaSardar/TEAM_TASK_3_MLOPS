{
 "cells": [
  {
   "cell_type": "markdown",
   "metadata": {},
   "source": [
    "# server"
   ]
  },
  {
   "cell_type": "code",
   "execution_count": null,
   "metadata": {},
   "outputs": [],
   "source": [
    "import numpy as np, socket as s, cv2, pickle, struct\n",
    "\n",
    "myp =  s.SOCK_STREAM\n",
    "afn = s.AF_INET\n",
    "add_pro = s.socket(afn , myp)\n",
    "myip = \"192.168.0.104\"  \n",
    "port = 1234              \n",
    "bind = add_pro.bind((myip , port))        \n",
    "add_pro.listen()      \n",
    "while True:\n",
    "    client_socket, addr = add_pro.accept() \n",
    "    if client_socket:\n",
    "        cv = cv2.VideoCapture(0)  \n",
    "        while(cv.isOpened()):\n",
    "            ret , photo = cv.read()\n",
    "            a = pickle.dumps(photo)\n",
    "            message = struct.pack(\"Q\",len(a))+a\n",
    "            client_socket.sendall(message)\n",
    "            cv2.imshow(\"Server Side\" ,photo)\n",
    "            key = cv2.waitKey(1) & 0xFF\n",
    "            if cv2.waitKey(1) == 13:\n",
    "                cv2.destroyAllWindows()\n",
    "                client_socket.close()\n",
    "                break\n",
    "cv.release()       "
   ]
  },
  {
   "cell_type": "code",
   "execution_count": null,
   "metadata": {},
   "outputs": [],
   "source": []
  },
  {
   "cell_type": "code",
   "execution_count": null,
   "metadata": {},
   "outputs": [],
   "source": [
    "\n"
   ]
  },
  {
   "cell_type": "code",
   "execution_count": null,
   "metadata": {},
   "outputs": [],
   "source": []
  },
  {
   "cell_type": "code",
   "execution_count": null,
   "metadata": {},
   "outputs": [],
   "source": []
  }
 ],
 "metadata": {
  "kernelspec": {
   "display_name": "Python 3",
   "language": "python",
   "name": "python3"
  },
  "language_info": {
   "codemirror_mode": {
    "name": "ipython",
    "version": 3
   },
   "file_extension": ".py",
   "mimetype": "text/x-python",
   "name": "python",
   "nbconvert_exporter": "python",
   "pygments_lexer": "ipython3",
   "version": "3.8.3"
  }
 },
 "nbformat": 4,
 "nbformat_minor": 4
}
